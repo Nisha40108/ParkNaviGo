{
  "nbformat": 4,
  "nbformat_minor": 0,
  "metadata": {
    "colab": {
      "provenance": [],
      "machine_shape": "hm",
      "gpuType": "T4",
      "authorship_tag": "ABX9TyNFqOkdpNBeoXMGpCWiJJ3z",
      "include_colab_link": true
    },
    "kernelspec": {
      "name": "python3",
      "display_name": "Python 3"
    },
    "language_info": {
      "name": "python"
    },
    "accelerator": "GPU"
  },
  "cells": [
    {
      "cell_type": "markdown",
      "metadata": {
        "id": "view-in-github",
        "colab_type": "text"
      },
      "source": [
        "<a href=\"https://colab.research.google.com/github/Nisha40108/ParkNaviGo/blob/main/Model_code_class_refrence.ipynb\" target=\"_parent\"><img src=\"https://colab.research.google.com/assets/colab-badge.svg\" alt=\"Open In Colab\"/></a>"
      ]
    },
    {
      "cell_type": "code",
      "execution_count": 20,
      "metadata": {
        "colab": {
          "base_uri": "https://localhost:8080/"
        },
        "id": "CSdhE61vW0Pk",
        "outputId": "f7e0baa9-d8b5-43db-ba01-a1d6dd994d34"
      },
      "outputs": [
        {
          "output_type": "stream",
          "name": "stdout",
          "text": [
            "Drive already mounted at /content/drive; to attempt to forcibly remount, call drive.mount(\"/content/drive\", force_remount=True).\n"
          ]
        }
      ],
      "source": [
        "from google.colab import drive\n",
        "drive.mount('/content/drive')"
      ]
    },
    {
      "cell_type": "code",
      "source": [
        "!pip install tensorflow==2.12"
      ],
      "metadata": {
        "colab": {
          "base_uri": "https://localhost:8080/"
        },
        "id": "Tq74F96TYWxV",
        "outputId": "2c2e957c-cdd5-4e00-a562-f9c04cad0b55"
      },
      "execution_count": 21,
      "outputs": [
        {
          "output_type": "stream",
          "name": "stdout",
          "text": [
            "Requirement already satisfied: tensorflow==2.12 in /usr/local/lib/python3.10/dist-packages (2.12.0)\n",
            "Requirement already satisfied: absl-py>=1.0.0 in /usr/local/lib/python3.10/dist-packages (from tensorflow==2.12) (1.4.0)\n",
            "Requirement already satisfied: astunparse>=1.6.0 in /usr/local/lib/python3.10/dist-packages (from tensorflow==2.12) (1.6.3)\n",
            "Requirement already satisfied: flatbuffers>=2.0 in /usr/local/lib/python3.10/dist-packages (from tensorflow==2.12) (23.5.26)\n",
            "Requirement already satisfied: gast<=0.4.0,>=0.2.1 in /usr/local/lib/python3.10/dist-packages (from tensorflow==2.12) (0.4.0)\n",
            "Requirement already satisfied: google-pasta>=0.1.1 in /usr/local/lib/python3.10/dist-packages (from tensorflow==2.12) (0.2.0)\n",
            "Requirement already satisfied: grpcio<2.0,>=1.24.3 in /usr/local/lib/python3.10/dist-packages (from tensorflow==2.12) (1.59.3)\n",
            "Requirement already satisfied: h5py>=2.9.0 in /usr/local/lib/python3.10/dist-packages (from tensorflow==2.12) (3.9.0)\n",
            "Requirement already satisfied: jax>=0.3.15 in /usr/local/lib/python3.10/dist-packages (from tensorflow==2.12) (0.4.20)\n",
            "Requirement already satisfied: keras<2.13,>=2.12.0 in /usr/local/lib/python3.10/dist-packages (from tensorflow==2.12) (2.12.0)\n",
            "Requirement already satisfied: libclang>=13.0.0 in /usr/local/lib/python3.10/dist-packages (from tensorflow==2.12) (16.0.6)\n",
            "Requirement already satisfied: numpy<1.24,>=1.22 in /usr/local/lib/python3.10/dist-packages (from tensorflow==2.12) (1.23.5)\n",
            "Requirement already satisfied: opt-einsum>=2.3.2 in /usr/local/lib/python3.10/dist-packages (from tensorflow==2.12) (3.3.0)\n",
            "Requirement already satisfied: packaging in /usr/local/lib/python3.10/dist-packages (from tensorflow==2.12) (23.2)\n",
            "Requirement already satisfied: protobuf!=4.21.0,!=4.21.1,!=4.21.2,!=4.21.3,!=4.21.4,!=4.21.5,<5.0.0dev,>=3.20.3 in /usr/local/lib/python3.10/dist-packages (from tensorflow==2.12) (3.20.3)\n",
            "Requirement already satisfied: setuptools in /usr/local/lib/python3.10/dist-packages (from tensorflow==2.12) (67.7.2)\n",
            "Requirement already satisfied: six>=1.12.0 in /usr/local/lib/python3.10/dist-packages (from tensorflow==2.12) (1.16.0)\n",
            "Requirement already satisfied: tensorboard<2.13,>=2.12 in /usr/local/lib/python3.10/dist-packages (from tensorflow==2.12) (2.12.3)\n",
            "Requirement already satisfied: tensorflow-estimator<2.13,>=2.12.0 in /usr/local/lib/python3.10/dist-packages (from tensorflow==2.12) (2.12.0)\n",
            "Requirement already satisfied: termcolor>=1.1.0 in /usr/local/lib/python3.10/dist-packages (from tensorflow==2.12) (2.3.0)\n",
            "Requirement already satisfied: typing-extensions>=3.6.6 in /usr/local/lib/python3.10/dist-packages (from tensorflow==2.12) (4.5.0)\n",
            "Requirement already satisfied: wrapt<1.15,>=1.11.0 in /usr/local/lib/python3.10/dist-packages (from tensorflow==2.12) (1.14.1)\n",
            "Requirement already satisfied: tensorflow-io-gcs-filesystem>=0.23.1 in /usr/local/lib/python3.10/dist-packages (from tensorflow==2.12) (0.34.0)\n",
            "Requirement already satisfied: wheel<1.0,>=0.23.0 in /usr/local/lib/python3.10/dist-packages (from astunparse>=1.6.0->tensorflow==2.12) (0.42.0)\n",
            "Requirement already satisfied: ml-dtypes>=0.2.0 in /usr/local/lib/python3.10/dist-packages (from jax>=0.3.15->tensorflow==2.12) (0.2.0)\n",
            "Requirement already satisfied: scipy>=1.9 in /usr/local/lib/python3.10/dist-packages (from jax>=0.3.15->tensorflow==2.12) (1.11.4)\n",
            "Requirement already satisfied: google-auth<3,>=1.6.3 in /usr/local/lib/python3.10/dist-packages (from tensorboard<2.13,>=2.12->tensorflow==2.12) (2.17.3)\n",
            "Requirement already satisfied: google-auth-oauthlib<1.1,>=0.5 in /usr/local/lib/python3.10/dist-packages (from tensorboard<2.13,>=2.12->tensorflow==2.12) (1.0.0)\n",
            "Requirement already satisfied: markdown>=2.6.8 in /usr/local/lib/python3.10/dist-packages (from tensorboard<2.13,>=2.12->tensorflow==2.12) (3.5.1)\n",
            "Requirement already satisfied: requests<3,>=2.21.0 in /usr/local/lib/python3.10/dist-packages (from tensorboard<2.13,>=2.12->tensorflow==2.12) (2.31.0)\n",
            "Requirement already satisfied: tensorboard-data-server<0.8.0,>=0.7.0 in /usr/local/lib/python3.10/dist-packages (from tensorboard<2.13,>=2.12->tensorflow==2.12) (0.7.2)\n",
            "Requirement already satisfied: werkzeug>=1.0.1 in /usr/local/lib/python3.10/dist-packages (from tensorboard<2.13,>=2.12->tensorflow==2.12) (3.0.1)\n",
            "Requirement already satisfied: cachetools<6.0,>=2.0.0 in /usr/local/lib/python3.10/dist-packages (from google-auth<3,>=1.6.3->tensorboard<2.13,>=2.12->tensorflow==2.12) (5.3.2)\n",
            "Requirement already satisfied: pyasn1-modules>=0.2.1 in /usr/local/lib/python3.10/dist-packages (from google-auth<3,>=1.6.3->tensorboard<2.13,>=2.12->tensorflow==2.12) (0.3.0)\n",
            "Requirement already satisfied: rsa<5,>=3.1.4 in /usr/local/lib/python3.10/dist-packages (from google-auth<3,>=1.6.3->tensorboard<2.13,>=2.12->tensorflow==2.12) (4.9)\n",
            "Requirement already satisfied: requests-oauthlib>=0.7.0 in /usr/local/lib/python3.10/dist-packages (from google-auth-oauthlib<1.1,>=0.5->tensorboard<2.13,>=2.12->tensorflow==2.12) (1.3.1)\n",
            "Requirement already satisfied: charset-normalizer<4,>=2 in /usr/local/lib/python3.10/dist-packages (from requests<3,>=2.21.0->tensorboard<2.13,>=2.12->tensorflow==2.12) (3.3.2)\n",
            "Requirement already satisfied: idna<4,>=2.5 in /usr/local/lib/python3.10/dist-packages (from requests<3,>=2.21.0->tensorboard<2.13,>=2.12->tensorflow==2.12) (3.6)\n",
            "Requirement already satisfied: urllib3<3,>=1.21.1 in /usr/local/lib/python3.10/dist-packages (from requests<3,>=2.21.0->tensorboard<2.13,>=2.12->tensorflow==2.12) (2.0.7)\n",
            "Requirement already satisfied: certifi>=2017.4.17 in /usr/local/lib/python3.10/dist-packages (from requests<3,>=2.21.0->tensorboard<2.13,>=2.12->tensorflow==2.12) (2023.11.17)\n",
            "Requirement already satisfied: MarkupSafe>=2.1.1 in /usr/local/lib/python3.10/dist-packages (from werkzeug>=1.0.1->tensorboard<2.13,>=2.12->tensorflow==2.12) (2.1.3)\n",
            "Requirement already satisfied: pyasn1<0.6.0,>=0.4.6 in /usr/local/lib/python3.10/dist-packages (from pyasn1-modules>=0.2.1->google-auth<3,>=1.6.3->tensorboard<2.13,>=2.12->tensorflow==2.12) (0.5.1)\n",
            "Requirement already satisfied: oauthlib>=3.0.0 in /usr/local/lib/python3.10/dist-packages (from requests-oauthlib>=0.7.0->google-auth-oauthlib<1.1,>=0.5->tensorboard<2.13,>=2.12->tensorflow==2.12) (3.2.2)\n"
          ]
        }
      ]
    },
    {
      "cell_type": "code",
      "source": [
        "import numpy as np\n",
        "import pandas as pd\n",
        "import matplotlib.pyplot as plt\n",
        "import requests\n",
        "import seaborn as sns\n",
        "import zipfile\n",
        "import io\n",
        "import os\n",
        "import shutil\n",
        "import pathlib\n",
        "%matplotlib inline\n",
        "\n",
        "from tensorflow import keras\n",
        "from tensorflow.keras import layers\n",
        "from tensorflow.keras.utils import image_dataset_from_directory\n",
        "from tensorflow.keras.callbacks import EarlyStopping\n",
        "from tensorflow.keras.callbacks import ModelCheckpoint\n",
        "from io import BytesIO\n",
        "from zipfile import ZipFile"
      ],
      "metadata": {
        "id": "c_BuV9s1YaG8"
      },
      "execution_count": 84,
      "outputs": []
    },
    {
      "cell_type": "code",
      "source": [
        "import shutil\n",
        "import os\n",
        "\n",
        "zip_file_path = '/content/sample_data/parking_data/Trial.zip'\n",
        "extracted_folder_path = '/content/sample_data/parking_data'\n",
        "\n",
        "# Unzip the file\n",
        "shutil.unpack_archive(zip_file_path, extracted_folder_path, 'zip')"
      ],
      "metadata": {
        "id": "jL14LWYZtIGy"
      },
      "execution_count": 81,
      "outputs": []
    },
    {
      "cell_type": "code",
      "source": [
        "import os, shutil, pathlib\n",
        "\n",
        "original_dir = pathlib.Path(\"/content/sample_data/Image/empty\")\n",
        "new_base_dir = pathlib.Path(\"/content/sample_data\")\n",
        "\n",
        "def make_subset(subset_name, start_index, end_index):\n",
        "    for category in (\"empty\", \"occupied\"):\n",
        "        dir = new_base_dir / subset_name / category\n",
        "        os.makedirs(dir, exist_ok = True)\n",
        "        fnames = [f\"{category} {i}.png\" for i in range(start_index + 1, min(end_index + 1,150))]\n",
        "        for fname in fnames:\n",
        "            shutil.copyfile(src=original_dir / fname,\n",
        "                            dst=dir / fname)\n",
        "\n",
        "# 70% for training\n",
        "make_subset(\"train_data_1\", start_index =0, end_index= 49)\n",
        "\n",
        "# 15% for validation\n",
        "make_subset(\"validation_data_1\", start_index=50, end_index=74)\n",
        "\n",
        "# 15% for testing\n",
        "make_subset(\"test_data_1\", start_index=74, end_index=99)"
      ],
      "metadata": {
        "id": "7ew0STz9dFa7"
      },
      "execution_count": 78,
      "outputs": []
    },
    {
      "cell_type": "code",
      "source": [
        "train_dataset = image_dataset_from_directory(\n",
        "    new_base_dir / \"train_data_1\",\n",
        "    image_size=(224, 224),\n",
        "    batch_size=32)\n",
        "validation_dataset = image_dataset_from_directory(\n",
        "    new_base_dir / \"validation_data_1\",\n",
        "    image_size=(224, 224),\n",
        "    batch_size=32)\n",
        "test_dataset = image_dataset_from_directory(\n",
        "    new_base_dir / \"test_data_1\",\n",
        "    image_size=(224, 224),\n",
        "    batch_size=32)"
      ],
      "metadata": {
        "colab": {
          "base_uri": "https://localhost:8080/"
        },
        "id": "6XmtKrPSbIPp",
        "outputId": "da5ea048-a33e-4ffa-ece5-b1a0ba18b860"
      },
      "execution_count": 79,
      "outputs": [
        {
          "output_type": "stream",
          "name": "stdout",
          "text": [
            "Found 102 files belonging to 2 classes.\n",
            "Found 52 files belonging to 2 classes.\n",
            "Found 150 files belonging to 2 classes.\n"
          ]
        }
      ]
    },
    {
      "cell_type": "code",
      "source": [
        "for data_batch, labels_batch in train_dataset:\n",
        "    print(\"data batch shape:\", data_batch.shape)\n",
        "    print(\"labels batch shape:\", labels_batch.shape)\n",
        "    break"
      ],
      "metadata": {
        "colab": {
          "base_uri": "https://localhost:8080/"
        },
        "id": "iWCp4_8Dud0F",
        "outputId": "28bf8066-8eb6-4a8a-e1a2-d2a65629d4e6"
      },
      "execution_count": 82,
      "outputs": [
        {
          "output_type": "stream",
          "name": "stdout",
          "text": [
            "data batch shape: (32, 224, 224, 3)\n",
            "labels batch shape: (32,)\n"
          ]
        }
      ]
    },
    {
      "cell_type": "code",
      "source": [
        "#Building the model\n",
        "#Instantiating a small convnet for dogs vs. cats classification\n",
        "#*Model - 1 MaxPooling Operation with Increase in filters from 32 to 256 in 5 Input Layers*\n",
        "\n",
        "inputs = keras.Input(shape=(224, 224, 3))\n",
        "x = layers.Rescaling(1./255)(inputs)\n",
        "x = layers.Conv2D(filters=32, kernel_size=3, activation=\"relu\")(x)\n",
        "x = layers.MaxPooling2D(pool_size=2)(x)\n",
        "x = layers.Conv2D(filters=64, kernel_size=3, activation=\"relu\")(x)\n",
        "x = layers.MaxPooling2D(pool_size=2)(x)\n",
        "x = layers.Conv2D(filters=128, kernel_size=3, activation=\"relu\")(x)\n",
        "x = layers.MaxPooling2D(pool_size=2)(x)\n",
        "x = layers.Conv2D(filters=256, kernel_size=3, activation=\"relu\")(x)\n",
        "x = layers.MaxPooling2D(pool_size=2)(x)\n",
        "x = layers.Conv2D(filters=256, kernel_size=3, activation=\"relu\")(x)\n",
        "x = layers.Flatten()(x)\n",
        "outputs = layers.Dense(1, activation=\"sigmoid\")(x)\n",
        "\n",
        "\n",
        "model = keras.Model(inputs=inputs, outputs=outputs)"
      ],
      "metadata": {
        "id": "L10tgtL8ujn6"
      },
      "execution_count": 90,
      "outputs": []
    },
    {
      "cell_type": "code",
      "source": [
        "model.summary()"
      ],
      "metadata": {
        "colab": {
          "base_uri": "https://localhost:8080/"
        },
        "id": "mY0amwAluxGO",
        "outputId": "9434d674-83e0-4003-a40f-5b3b440a98b0"
      },
      "execution_count": 86,
      "outputs": [
        {
          "output_type": "stream",
          "name": "stdout",
          "text": [
            "Model: \"model\"\n",
            "_________________________________________________________________\n",
            " Layer (type)                Output Shape              Param #   \n",
            "=================================================================\n",
            " input_1 (InputLayer)        [(None, 180, 180, 3)]     0         \n",
            "                                                                 \n",
            " rescaling (Rescaling)       (None, 180, 180, 3)       0         \n",
            "                                                                 \n",
            " conv2d (Conv2D)             (None, 178, 178, 32)      896       \n",
            "                                                                 \n",
            " max_pooling2d (MaxPooling2D  (None, 89, 89, 32)       0         \n",
            " )                                                               \n",
            "                                                                 \n",
            " conv2d_1 (Conv2D)           (None, 87, 87, 64)        18496     \n",
            "                                                                 \n",
            " max_pooling2d_1 (MaxPooling  (None, 43, 43, 64)       0         \n",
            " 2D)                                                             \n",
            "                                                                 \n",
            " conv2d_2 (Conv2D)           (None, 41, 41, 128)       73856     \n",
            "                                                                 \n",
            " max_pooling2d_2 (MaxPooling  (None, 20, 20, 128)      0         \n",
            " 2D)                                                             \n",
            "                                                                 \n",
            " conv2d_3 (Conv2D)           (None, 18, 18, 256)       295168    \n",
            "                                                                 \n",
            " max_pooling2d_3 (MaxPooling  (None, 9, 9, 256)        0         \n",
            " 2D)                                                             \n",
            "                                                                 \n",
            " conv2d_4 (Conv2D)           (None, 7, 7, 256)         590080    \n",
            "                                                                 \n",
            " flatten (Flatten)           (None, 12544)             0         \n",
            "                                                                 \n",
            " dense (Dense)               (None, 1)                 12545     \n",
            "                                                                 \n",
            "=================================================================\n",
            "Total params: 991,041\n",
            "Trainable params: 991,041\n",
            "Non-trainable params: 0\n",
            "_________________________________________________________________\n"
          ]
        }
      ]
    },
    {
      "cell_type": "code",
      "source": [
        "# Compilimg the results of the model\n",
        "model.compile(loss=\"binary_crossentropy\",\n",
        "              optimizer=\"adam\",\n",
        "              metrics=[\"accuracy\"])\n",
        "\n",
        "\n",
        "# Saving the results of the model\n",
        "callbacks = ModelCheckpoint(\n",
        "            filepath= \"model1.keras\",\n",
        "            save_best_only= True,\n",
        "            monitor= \"val_loss\"\n",
        "            )\n",
        "\n",
        "\n",
        "# Fitting/Running the Model\n",
        "Model_1 = model.fit(\n",
        "          train_dataset,\n",
        "          epochs= 30,\n",
        "          validation_data= validation_dataset,\n",
        "          callbacks= callbacks)"
      ],
      "metadata": {
        "colab": {
          "base_uri": "https://localhost:8080/"
        },
        "id": "z2DUjwOtu0KG",
        "outputId": "0b75cfc8-7efe-4117-a65c-286c4950b15e"
      },
      "execution_count": 95,
      "outputs": [
        {
          "output_type": "stream",
          "name": "stdout",
          "text": [
            "Epoch 1/30\n",
            "4/4 [==============================] - 3s 133ms/step - loss: 2.3179 - accuracy: 0.8039 - val_loss: 1.0392 - val_accuracy: 0.5962\n",
            "Epoch 2/30\n",
            "4/4 [==============================] - 0s 82ms/step - loss: 0.7727 - accuracy: 0.6471 - val_loss: 0.7157 - val_accuracy: 0.5769\n",
            "Epoch 3/30\n",
            "4/4 [==============================] - 0s 79ms/step - loss: 0.5781 - accuracy: 0.7353 - val_loss: 0.5159 - val_accuracy: 0.9615\n",
            "Epoch 4/30\n",
            "4/4 [==============================] - 0s 77ms/step - loss: 0.4394 - accuracy: 0.7353 - val_loss: 0.4141 - val_accuracy: 0.7692\n",
            "Epoch 5/30\n",
            "4/4 [==============================] - 0s 78ms/step - loss: 0.3182 - accuracy: 0.8824 - val_loss: 0.3766 - val_accuracy: 0.9423\n",
            "Epoch 6/30\n",
            "4/4 [==============================] - 0s 62ms/step - loss: 0.2977 - accuracy: 0.9314 - val_loss: 0.4740 - val_accuracy: 0.5962\n",
            "Epoch 7/30\n",
            "4/4 [==============================] - 0s 85ms/step - loss: 0.2764 - accuracy: 0.8824 - val_loss: 0.3482 - val_accuracy: 0.9423\n",
            "Epoch 8/30\n",
            "4/4 [==============================] - 0s 79ms/step - loss: 0.2601 - accuracy: 0.9412 - val_loss: 0.2923 - val_accuracy: 0.9423\n",
            "Epoch 9/30\n",
            "4/4 [==============================] - 0s 79ms/step - loss: 0.1815 - accuracy: 0.9608 - val_loss: 0.2368 - val_accuracy: 0.9615\n",
            "Epoch 10/30\n",
            "4/4 [==============================] - 0s 78ms/step - loss: 0.1004 - accuracy: 0.9706 - val_loss: 0.2119 - val_accuracy: 0.9231\n",
            "Epoch 11/30\n",
            "4/4 [==============================] - 0s 61ms/step - loss: 0.1690 - accuracy: 0.9412 - val_loss: 0.5552 - val_accuracy: 0.8462\n",
            "Epoch 12/30\n",
            "4/4 [==============================] - 0s 78ms/step - loss: 0.2270 - accuracy: 0.9314 - val_loss: 0.1093 - val_accuracy: 0.9808\n",
            "Epoch 13/30\n",
            "4/4 [==============================] - 0s 62ms/step - loss: 0.1690 - accuracy: 0.9608 - val_loss: 0.1688 - val_accuracy: 0.9808\n",
            "Epoch 14/30\n",
            "4/4 [==============================] - 0s 62ms/step - loss: 0.1082 - accuracy: 0.9608 - val_loss: 0.2264 - val_accuracy: 0.9615\n",
            "Epoch 15/30\n",
            "4/4 [==============================] - 0s 63ms/step - loss: 0.1227 - accuracy: 0.9510 - val_loss: 0.2028 - val_accuracy: 0.9615\n",
            "Epoch 16/30\n",
            "4/4 [==============================] - 0s 62ms/step - loss: 0.0940 - accuracy: 0.9804 - val_loss: 0.1221 - val_accuracy: 0.9615\n",
            "Epoch 17/30\n",
            "4/4 [==============================] - 0s 76ms/step - loss: 0.0542 - accuracy: 0.9804 - val_loss: 0.0775 - val_accuracy: 1.0000\n",
            "Epoch 18/30\n",
            "4/4 [==============================] - 0s 77ms/step - loss: 0.0280 - accuracy: 0.9902 - val_loss: 0.0744 - val_accuracy: 0.9808\n",
            "Epoch 19/30\n",
            "4/4 [==============================] - 0s 77ms/step - loss: 0.0222 - accuracy: 0.9902 - val_loss: 0.0667 - val_accuracy: 0.9423\n",
            "Epoch 20/30\n",
            "4/4 [==============================] - 0s 59ms/step - loss: 0.0152 - accuracy: 0.9902 - val_loss: 0.0977 - val_accuracy: 0.9423\n",
            "Epoch 21/30\n",
            "4/4 [==============================] - 0s 60ms/step - loss: 0.0038 - accuracy: 1.0000 - val_loss: 0.0944 - val_accuracy: 0.9615\n",
            "Epoch 22/30\n",
            "4/4 [==============================] - 0s 60ms/step - loss: 0.0022 - accuracy: 1.0000 - val_loss: 0.1191 - val_accuracy: 0.9231\n",
            "Epoch 23/30\n",
            "4/4 [==============================] - 0s 61ms/step - loss: 8.5351e-04 - accuracy: 1.0000 - val_loss: 0.1789 - val_accuracy: 0.9423\n",
            "Epoch 24/30\n",
            "4/4 [==============================] - 0s 61ms/step - loss: 0.0018 - accuracy: 1.0000 - val_loss: 0.1765 - val_accuracy: 0.9231\n",
            "Epoch 25/30\n",
            "4/4 [==============================] - 0s 59ms/step - loss: 5.2410e-04 - accuracy: 1.0000 - val_loss: 0.1388 - val_accuracy: 0.9231\n",
            "Epoch 26/30\n",
            "4/4 [==============================] - 0s 60ms/step - loss: 6.5626e-04 - accuracy: 1.0000 - val_loss: 0.1268 - val_accuracy: 0.9231\n",
            "Epoch 27/30\n",
            "4/4 [==============================] - 0s 61ms/step - loss: 5.2346e-04 - accuracy: 1.0000 - val_loss: 0.1357 - val_accuracy: 0.9231\n",
            "Epoch 28/30\n",
            "4/4 [==============================] - 0s 61ms/step - loss: 3.1451e-04 - accuracy: 1.0000 - val_loss: 0.2153 - val_accuracy: 0.9423\n",
            "Epoch 29/30\n",
            "4/4 [==============================] - 0s 61ms/step - loss: 6.7856e-04 - accuracy: 1.0000 - val_loss: 0.2305 - val_accuracy: 0.9423\n",
            "Epoch 30/30\n",
            "4/4 [==============================] - 0s 61ms/step - loss: 6.4353e-04 - accuracy: 1.0000 - val_loss: 0.1828 - val_accuracy: 0.9423\n"
          ]
        }
      ]
    },
    {
      "cell_type": "code",
      "source": [
        "accuracy = Model_1.history[\"accuracy\"]\n",
        "val_accuracy = Model_1.history[\"val_accuracy\"]\n",
        "\n",
        "loss = Model_1.history[\"loss\"]\n",
        "val_loss = Model_1.history[\"val_loss\"]\n",
        "\n",
        "epochs = range(1, len(accuracy) + 1)\n",
        "plt.plot(epochs, accuracy, color=\"grey\", label=\"Training Accuracy\")\n",
        "plt.plot(epochs, val_accuracy, color=\"blue\",linestyle=\"dashed\", label=\"Validation Accuracy\")\n",
        "plt.title(\"Training and Validation Accuracy\")\n",
        "plt.legend()\n",
        "plt.figure()\n",
        "\n",
        "plt.plot(epochs, loss, color=\"grey\", label=\"Training Loss\")\n",
        "plt.plot(epochs, val_loss, color=\"blue\", linestyle=\"dashed\", label=\"Validation Loss\")\n",
        "plt.title(\"Training and Validation Loss\")\n",
        "plt.legend()\n",
        "plt.show()"
      ],
      "metadata": {
        "colab": {
          "base_uri": "https://localhost:8080/",
          "height": 887
        },
        "id": "Fh1dn6PuwEyW",
        "outputId": "ef3adb35-fdb7-4b63-cf57-da0515495344"
      },
      "execution_count": 96,
      "outputs": [
        {
          "output_type": "display_data",
          "data": {
            "text/plain": [
              "<Figure size 640x480 with 1 Axes>"
            ],
            "image/png": "[encoded data removed]"
          },
          "metadata": {}
        },
        {
          "output_type": "display_data",
          "data": {
            "text/plain": [
              "<Figure size 640x480 with 1 Axes>"
            ],
            "image/png": "[encoded data removed]"
          },
          "metadata": {}
        }
      ]
    },
    {
      "cell_type": "code",
      "source": [
        "test_model = keras.models.load_model(\"model1.keras\")\n",
        "Model1_Results = test_model.evaluate(test_dataset)\n",
        "print(f'Loss: {Model1_Results[0]:.3f}')\n",
        "print(f'Accuracy: {Model1_Results[1]:.3f}')"
      ],
      "metadata": {
        "colab": {
          "base_uri": "https://localhost:8080/"
        },
        "id": "Mu_MGJkowNdx",
        "outputId": "a881bd90-ce7d-4777-8749-8bd3279b1cfa"
      },
      "execution_count": 94,
      "outputs": [
        {
          "output_type": "stream",
          "name": "stdout",
          "text": [
            "5/5 [==============================] - 1s 103ms/step - loss: 0.4272 - accuracy: 0.8400\n",
            "Loss: 0.427\n",
            "Accuracy: 0.840\n"
          ]
        }
      ]
    }
  ]
}