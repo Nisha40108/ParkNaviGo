{
  "cells": [
    {
      "cell_type": "markdown",
      "metadata": {
        "id": "view-in-github",
        "colab_type": "text"
      },
      "source": [
        "<a href=\"https://colab.research.google.com/github/Nisha40108/ParkNaviGo/blob/main/CNN_model_for_occupancy_KSU.ipynb\" target=\"_parent\"><img src=\"https://colab.research.google.com/assets/colab-badge.svg\" alt=\"Open In Colab\"/></a>"
      ]
    },
    {
      "cell_type": "code",
      "source": [
        "from google.colab import drive\n",
        "drive.mount('/content/drive')"
      ],
      "metadata": {
        "colab": {
          "base_uri": "https://localhost:8080/"
        },
        "id": "um5fyHvefHR2",
        "outputId": "6a731ea4-fadb-4c5f-cb0d-6b44f0241971"
      },
      "execution_count": 10,
      "outputs": [
        {
          "output_type": "stream",
          "name": "stdout",
          "text": [
            "Drive already mounted at /content/drive; to attempt to forcibly remount, call drive.mount(\"/content/drive\", force_remount=True).\n"
          ]
        }
      ]
    },
    {
      "cell_type": "code",
      "execution_count": 20,
      "metadata": {
        "id": "ilUxeYHQe2mh"
      },
      "outputs": [],
      "source": [
        "import os\n",
        "import pandas as pd\n",
        "import numpy\n",
        "from keras import applications\n",
        "from keras.preprocessing.image import ImageDataGenerator\n",
        "from keras import optimizers\n",
        "from keras.models import Sequential, Model\n",
        "from keras.layers import Dropout, Flatten, Dense, GlobalAveragePooling2D\n",
        "from keras import backend as k\n",
        "from keras.callbacks import ModelCheckpoint, LearningRateScheduler, TensorBoard, EarlyStopping"
      ]
    },
    {
      "cell_type": "code",
      "source": [
        "\n",
        "\n",
        "# Define the path to your images folder and labels CSV file\n",
        "images_folder = '/content/drive/MyDrive/nisha/train_data/train/Image'\n",
        "labels_csv = '/content/drive/MyDrive/nisha/train_data/train/labels.csv'  # Replace with the actual path\n",
        "\n",
        "# Initialize variables to count the number of empty and occupied images\n",
        "empty_count = 0\n",
        "occupied_count = 0\n",
        "\n",
        "# Initialize lists to store image filenames and labels\n",
        "image_files = []\n",
        "labels = []\n",
        "\n",
        "# Iterate over subfolders in the main folder\n",
        "for sub_folder in os.listdir(images_folder):\n",
        "    sub_folder_path = os.path.join(images_folder, sub_folder)\n",
        "\n",
        "    # Check if it's a directory\n",
        "    if os.path.isdir(sub_folder_path):\n",
        "        # Get the list of files in the subfolder\n",
        "        files = os.listdir(sub_folder_path)\n",
        "\n",
        "        # Update counts based on the number of files\n",
        "        if \"empty\" in sub_folder:\n",
        "            empty_count += len(files)\n",
        "            label = \"empty\"\n",
        "        elif \"occupied\" in sub_folder:\n",
        "            occupied_count += len(files)\n",
        "            label = \"occupied\"\n",
        "        else:\n",
        "            label = None  # or assign a different label for other cases\n",
        "\n",
        "        # Append filenames and labels to the lists\n",
        "        image_files.extend(files)\n",
        "        labels.extend([label] * len(files))\n",
        "\n"
      ],
      "metadata": {
        "id": "q793uLN6BK_V"
      },
      "execution_count": 21,
      "outputs": []
    },
    {
      "cell_type": "code",
      "source": [
        "# Verify counts\n",
        "print(\"Number of empty images:\", empty_count)\n",
        "print(\"Number of occupied images:\", occupied_count)"
      ],
      "metadata": {
        "id": "td-05EIRBysA",
        "outputId": "6be9dead-0fa5-42e6-88fb-ccb1aa7097f1",
        "colab": {
          "base_uri": "https://localhost:8080/"
        }
      },
      "execution_count": 22,
      "outputs": [
        {
          "output_type": "stream",
          "name": "stdout",
          "text": [
            "Number of empty images: 17\n",
            "Number of occupied images: 8\n"
          ]
        }
      ]
    },
    {
      "cell_type": "code",
      "source": [
        "# Create a DataFrame\n",
        "data = {'Image': image_files, 'Label': labels}\n",
        "df = pd.DataFrame(data)\n",
        "\n",
        "# Print the DataFrame for verification\n",
        "print(df.head(25))\n",
        "\n",
        "# Save the DataFrame to the CSV file\n",
        "df.to_csv(labels_csv, index=False)\n"
      ],
      "metadata": {
        "id": "R9O3RxdmBuyi",
        "outputId": "e376c1b3-2869-43aa-e223-6b6e9aa9aebe",
        "colab": {
          "base_uri": "https://localhost:8080/"
        }
      },
      "execution_count": 24,
      "outputs": [
        {
          "output_type": "stream",
          "name": "stdout",
          "text": [
            "            Image     Label\n",
            "0      empty1.png     empty\n",
            "1      empty2.png     empty\n",
            "2     empty14.png     empty\n",
            "3     empty13.png     empty\n",
            "4     empty12.png     empty\n",
            "5     empty11.png     empty\n",
            "6     empty10.png     empty\n",
            "7      empty9.png     empty\n",
            "8      empty8.png     empty\n",
            "9      empty6.png     empty\n",
            "10     empty7.png     empty\n",
            "11    empty15.png     empty\n",
            "12    empty16.png     empty\n",
            "13     empty5.png     empty\n",
            "14     empty3.png     empty\n",
            "15     empty4.png     empty\n",
            "16     empty0.png     empty\n",
            "17  occupied3.png  occupied\n",
            "18  occupied7.png  occupied\n",
            "19  occupied8.png  occupied\n",
            "20  occupied1.png  occupied\n",
            "21  occupied2.png  occupied\n",
            "22  occupied4.png  occupied\n",
            "23  occupied5.png  occupied\n",
            "24  occupied6.png  occupied\n"
          ]
        }
      ]
    },
    {
      "cell_type": "markdown",
      "metadata": {
        "id": "xwyX38Cce2mn"
      },
      "source": [
        "### 1. Load Test and Train Files"
      ]
    },
    {
      "cell_type": "code",
      "source": [
        "files_validation = 0\n",
        "\n",
        "cwd = os.getcwd()\n",
        "folder = '/content/drive/MyDrive/nisha/train_data/test'\n",
        "for sub_folder in os.listdir(folder):\n",
        "    path, dirs, files = next(os.walk(os.path.join(folder,sub_folder)))\n",
        "    files_validation += len(files)\n",
        "\n",
        "print(files_train,files_validation)"
      ],
      "metadata": {
        "id": "2y6kC99nAC62",
        "outputId": "f08333ef-b2e6-49e6-9361-aff5ddecb2c7",
        "colab": {
          "base_uri": "https://localhost:8080/"
        }
      },
      "execution_count": 8,
      "outputs": [
        {
          "output_type": "stream",
          "name": "stdout",
          "text": [
            "25 8\n"
          ]
        }
      ]
    },
    {
      "cell_type": "markdown",
      "metadata": {
        "id": "bWkyyUwJe2mv"
      },
      "source": [
        "### 2. Set key parameters"
      ]
    },
    {
      "cell_type": "code",
      "execution_count": null,
      "metadata": {
        "id": "efxs3s8ie2mw"
      },
      "outputs": [],
      "source": [
        "img_width, img_height = 48, 48\n",
        "train_data_dir = \"/content/drive/MyDrive/nisha/train_data/train\"\n",
        "validation_data_dir = \"/content/drive/MyDrive/nisha/train_data/test\"\n",
        "nb_train_samples = files_train\n",
        "nb_validation_samples = files_validation\n",
        "batch_size = 32\n",
        "epochs = 15\n",
        "num_classes = 2"
      ]
    },
    {
      "cell_type": "markdown",
      "metadata": {
        "id": "zrM_WcMRe2mx"
      },
      "source": [
        "### 3. Build model on top of a trained VGG"
      ]
    },
    {
      "cell_type": "code",
      "execution_count": null,
      "metadata": {
        "id": "bTPD4KyLe2my"
      },
      "outputs": [],
      "source": [
        "model = applications.VGG16(weights = \"imagenet\", include_top=False, input_shape = (img_width, img_height, 3))\n",
        "# Freeze the layers which you don't want to train. Here I am freezing the first 5 layers.\n",
        "for layer in model.layers[:10]:\n",
        "    layer.trainable = False"
      ]
    },
    {
      "cell_type": "code",
      "execution_count": null,
      "metadata": {
        "id": "t1cWHUFxe2mz"
      },
      "outputs": [],
      "source": [
        "x = model.output\n",
        "x = Flatten()(x)\n",
        "# x = Dense(512, activation=\"relu\")(x)\n",
        "# x = Dropout(0.5)(x)\n",
        "# x = Dense(256, activation=\"relu\")(x)\n",
        "# x = Dropout(0.5)(x)\n",
        "predictions = Dense(num_classes, activation=\"softmax\")(x)\n",
        "\n",
        "from keras.models import Model\n",
        "# creating the final model\n",
        "model_final = Model(inputs = model.input, outputs = predictions)\n",
        "\n",
        "# compile the model\n",
        "model_final.compile(loss = \"categorical_crossentropy\",\n",
        "                    optimizer = optimizers.SGD(learning_rate=0.0001, momentum=0.9),\n",
        "                    metrics=[\"accuracy\"]) # See learning rate is very low"
      ]
    },
    {
      "cell_type": "code",
      "execution_count": null,
      "metadata": {
        "colab": {
          "base_uri": "https://localhost:8080/"
        },
        "id": "q_VQN_qAe2m0",
        "outputId": "e95f28d0-8453-4f32-92de-98bdd0852033"
      },
      "outputs": [
        {
          "output_type": "stream",
          "name": "stdout",
          "text": [
            "Found 25 images belonging to 2 classes.\n",
            "Found 8 images belonging to 2 classes.\n"
          ]
        }
      ],
      "source": [
        "# Initiate the train and test generators with data Augumentation\n",
        "train_datagen = ImageDataGenerator(\n",
        "rescale = 1./255,\n",
        "horizontal_flip = True,\n",
        "fill_mode = \"nearest\",\n",
        "zoom_range = 0.1,\n",
        "width_shift_range = 0.1,\n",
        "height_shift_range=0.1,\n",
        "rotation_range=5)\n",
        "\n",
        "test_datagen = ImageDataGenerator(\n",
        "rescale = 1./255,\n",
        "horizontal_flip = True,\n",
        "fill_mode = \"nearest\",\n",
        "zoom_range = 0.1,\n",
        "width_shift_range = 0.1,\n",
        "height_shift_range=0.1,\n",
        "rotation_range=5)\n",
        "\n",
        "train_generator = train_datagen.flow_from_directory(\n",
        "train_data_dir,\n",
        "target_size = (img_height, img_width),\n",
        "batch_size = batch_size,\n",
        "class_mode = \"categorical\")\n",
        "\n",
        "validation_generator = test_datagen.flow_from_directory(\n",
        "validation_data_dir,\n",
        "target_size = (img_height, img_width),\n",
        "class_mode = \"categorical\")"
      ]
    },
    {
      "cell_type": "code",
      "execution_count": null,
      "metadata": {
        "id": "WQ4NIBH9e2m2"
      },
      "outputs": [],
      "source": [
        "# Save the model according to the conditions\n",
        "checkpoint = ModelCheckpoint(\"car1.h5\", monitor='val_accuracy', verbose=1, save_best_only=True, save_weights_only=False, mode='auto', save_freq='epoch')\n",
        "early = EarlyStopping(monitor='val_accuracy', min_delta=0, patience=10, verbose=1, mode='auto')\n"
      ]
    },
    {
      "cell_type": "code",
      "source": [
        "import os\n",
        "from keras.callbacks import ModelCheckpoint, EarlyStopping\n",
        "save_directory = '/content/drive/MyDrive/nisha'\n",
        "checkpoint_filepath = os.path.join(save_directory, 'car1.h5')"
      ],
      "metadata": {
        "id": "kgQG4aJom2Jv"
      },
      "execution_count": null,
      "outputs": []
    },
    {
      "cell_type": "code",
      "source": [
        "for batch in train_generator:\n",
        "    break  # Break after the first batch to print information\n",
        "print(\"Number of batches:\", len(train_generator))\n",
        "print(\"Number of samples in the first batch:\", batch[0].shape)\n",
        "\n",
        "# Set steps_per_epoch based on the number of batches in an epoch\n",
        "steps_per_epoch = len(train_generator)"
      ],
      "metadata": {
        "id": "GTmlS4YWCpZL",
        "outputId": "f8eeac01-6ac2-402f-ac9b-23b0b211f200",
        "colab": {
          "base_uri": "https://localhost:8080/"
        }
      },
      "execution_count": null,
      "outputs": [
        {
          "output_type": "stream",
          "name": "stdout",
          "text": [
            "Number of batches: 1\n",
            "Number of samples in the first batch: (25, 48, 48, 3)\n"
          ]
        }
      ]
    },
    {
      "cell_type": "code",
      "source": [
        "for batch in validation_generator:\n",
        "    break  # Break after the first batch to print information\n",
        "print(\"Number of batches:\", len(train_generator))\n",
        "print(\"Number of samples in the first batch:\", batch[0].shape)\n",
        "\n",
        "# Set steps_per_epoch based on the number of batches in an epoch\n",
        "steps_per_epoch = len(train_generator)"
      ],
      "metadata": {
        "id": "5KZnjd8cEj7D",
        "outputId": "80fe8083-b7ea-4298-f6c2-e8787412853a",
        "colab": {
          "base_uri": "https://localhost:8080/"
        }
      },
      "execution_count": null,
      "outputs": [
        {
          "output_type": "stream",
          "name": "stdout",
          "text": [
            "Number of batches: 1\n",
            "Number of samples in the first batch: (8, 48, 48, 3)\n"
          ]
        }
      ]
    },
    {
      "cell_type": "code",
      "source": [
        "history_object = model_final.fit(\n",
        "    train_generator,\n",
        "    steps_per_epoch=len(train_generator),\n",
        "    epochs=epochs,\n",
        "    validation_data=validation_generator,\n",
        "    validation_steps=len(validation_generator),  # Use the number of batches for validation\n",
        "    callbacks=[checkpoint, early]\n",
        ")\n"
      ],
      "metadata": {
        "colab": {
          "base_uri": "https://localhost:8080/"
        },
        "id": "FpyaheTZiJZp",
        "outputId": "4fe0e45d-712c-4e80-c362-1022f9d6e7a0"
      },
      "execution_count": null,
      "outputs": [
        {
          "output_type": "stream",
          "name": "stdout",
          "text": [
            "Epoch 1/15\n",
            "1/1 [==============================] - ETA: 0s - loss: 0.9267 - accuracy: 0.3200\n",
            "Epoch 1: val_accuracy improved from -inf to 0.50000, saving model to car1.h5\n",
            "1/1 [==============================] - 5s 5s/step - loss: 0.9267 - accuracy: 0.3200 - val_loss: 0.7570 - val_accuracy: 0.5000\n",
            "Epoch 2/15\n",
            "1/1 [==============================] - ETA: 0s - loss: 0.8482 - accuracy: 0.3200\n",
            "Epoch 2: val_accuracy did not improve from 0.50000\n",
            "1/1 [==============================] - 2s 2s/step - loss: 0.8482 - accuracy: 0.3200 - val_loss: 0.6589 - val_accuracy: 0.5000\n",
            "Epoch 3/15\n",
            "1/1 [==============================] - ETA: 0s - loss: 0.7391 - accuracy: 0.3600\n",
            "Epoch 3: val_accuracy improved from 0.50000 to 0.62500, saving model to car1.h5\n",
            "1/1 [==============================] - 2s 2s/step - loss: 0.7391 - accuracy: 0.3600 - val_loss: 0.5881 - val_accuracy: 0.6250\n",
            "Epoch 4/15\n",
            "1/1 [==============================] - ETA: 0s - loss: 0.6985 - accuracy: 0.5200\n",
            "Epoch 4: val_accuracy improved from 0.62500 to 0.75000, saving model to car1.h5\n",
            "1/1 [==============================] - 3s 3s/step - loss: 0.6985 - accuracy: 0.5200 - val_loss: 0.5696 - val_accuracy: 0.7500\n",
            "Epoch 5/15\n",
            "1/1 [==============================] - ETA: 0s - loss: 0.6115 - accuracy: 0.7200\n",
            "Epoch 5: val_accuracy did not improve from 0.75000\n",
            "1/1 [==============================] - 3s 3s/step - loss: 0.6115 - accuracy: 0.7200 - val_loss: 0.5341 - val_accuracy: 0.7500\n",
            "Epoch 6/15\n",
            "1/1 [==============================] - ETA: 0s - loss: 0.5474 - accuracy: 0.7600\n",
            "Epoch 6: val_accuracy did not improve from 0.75000\n",
            "1/1 [==============================] - 2s 2s/step - loss: 0.5474 - accuracy: 0.7600 - val_loss: 0.4905 - val_accuracy: 0.7500\n",
            "Epoch 7/15\n",
            "1/1 [==============================] - ETA: 0s - loss: 0.4647 - accuracy: 0.8400\n",
            "Epoch 7: val_accuracy did not improve from 0.75000\n",
            "1/1 [==============================] - 2s 2s/step - loss: 0.4647 - accuracy: 0.8400 - val_loss: 0.5214 - val_accuracy: 0.6250\n",
            "Epoch 8/15\n",
            "1/1 [==============================] - ETA: 0s - loss: 0.4817 - accuracy: 0.7600\n",
            "Epoch 8: val_accuracy did not improve from 0.75000\n",
            "1/1 [==============================] - 2s 2s/step - loss: 0.4817 - accuracy: 0.7600 - val_loss: 0.5470 - val_accuracy: 0.7500\n",
            "Epoch 9/15\n",
            "1/1 [==============================] - ETA: 0s - loss: 0.4598 - accuracy: 0.8000\n",
            "Epoch 9: val_accuracy did not improve from 0.75000\n",
            "1/1 [==============================] - 2s 2s/step - loss: 0.4598 - accuracy: 0.8000 - val_loss: 0.5592 - val_accuracy: 0.7500\n",
            "Epoch 10/15\n",
            "1/1 [==============================] - ETA: 0s - loss: 0.4493 - accuracy: 0.7600\n",
            "Epoch 10: val_accuracy did not improve from 0.75000\n",
            "1/1 [==============================] - 3s 3s/step - loss: 0.4493 - accuracy: 0.7600 - val_loss: 0.6121 - val_accuracy: 0.6250\n",
            "Epoch 11/15\n",
            "1/1 [==============================] - ETA: 0s - loss: 0.4134 - accuracy: 0.7200\n",
            "Epoch 11: val_accuracy did not improve from 0.75000\n",
            "1/1 [==============================] - 3s 3s/step - loss: 0.4134 - accuracy: 0.7200 - val_loss: 0.5336 - val_accuracy: 0.7500\n",
            "Epoch 12/15\n",
            "1/1 [==============================] - ETA: 0s - loss: 0.3868 - accuracy: 0.8000\n",
            "Epoch 12: val_accuracy did not improve from 0.75000\n",
            "1/1 [==============================] - 2s 2s/step - loss: 0.3868 - accuracy: 0.8000 - val_loss: 0.5439 - val_accuracy: 0.7500\n",
            "Epoch 13/15\n",
            "1/1 [==============================] - ETA: 0s - loss: 0.4028 - accuracy: 0.7600\n",
            "Epoch 13: val_accuracy did not improve from 0.75000\n",
            "1/1 [==============================] - 2s 2s/step - loss: 0.4028 - accuracy: 0.7600 - val_loss: 0.5551 - val_accuracy: 0.7500\n",
            "Epoch 14/15\n",
            "1/1 [==============================] - ETA: 0s - loss: 0.3552 - accuracy: 0.8000\n",
            "Epoch 14: val_accuracy did not improve from 0.75000\n",
            "1/1 [==============================] - 2s 2s/step - loss: 0.3552 - accuracy: 0.8000 - val_loss: 0.5271 - val_accuracy: 0.7500\n",
            "Epoch 14: early stopping\n"
          ]
        }
      ]
    },
    {
      "cell_type": "code",
      "execution_count": null,
      "metadata": {
        "colab": {
          "base_uri": "https://localhost:8080/",
          "height": 489
        },
        "id": "EzmVh3Lte2m5",
        "outputId": "9ecf99e0-7a8b-437f-cbb9-98db44d0dd03"
      },
      "outputs": [
        {
          "output_type": "stream",
          "name": "stdout",
          "text": [
            "dict_keys(['loss', 'accuracy', 'val_loss', 'val_accuracy'])\n"
          ]
        },
        {
          "output_type": "display_data",
          "data": {
            "text/plain": [
              "<Figure size 640x480 with 1 Axes>"
            ],
            "image/png": "[encoded data removed]"
          },
          "metadata": {}
        }
      ],
      "source": [
        "import matplotlib.pyplot as plt\n",
        "print(history_object.history.keys())\n",
        "plt.plot(history_object.history['accuracy'])\n",
        "plt.plot(history_object.history['val_accuracy'])\n",
        "plt.title('model accuracy')\n",
        "plt.ylabel('accuracy')\n",
        "plt.xlabel('epoch')\n",
        "plt.legend(['train', 'test'], loc='upper left')\n",
        "plt.show()"
      ]
    },
    {
      "cell_type": "code",
      "execution_count": null,
      "metadata": {
        "colab": {
          "base_uri": "https://localhost:8080/",
          "height": 472
        },
        "id": "nf1bvedUe2m7",
        "outputId": "0ee72b3b-0e75-4db9-d833-98fc5f39386f"
      },
      "outputs": [
        {
          "output_type": "display_data",
          "data": {
            "text/plain": [
              "<Figure size 640x480 with 1 Axes>"
            ],
            "image/png": "[encoded data removed]"
          },
          "metadata": {}
        }
      ],
      "source": [
        "plt.plot(history_object.history['loss'])\n",
        "plt.plot(history_object.history['val_loss'])\n",
        "plt.title('model loss')\n",
        "plt.ylabel('loss')\n",
        "plt.xlabel('epoch')\n",
        "plt.legend(['train', 'test'], loc='upper left')\n",
        "plt.show()"
      ]
    },
    {
      "cell_type": "code",
      "execution_count": null,
      "metadata": {
        "id": "mprBL3qye2m9",
        "outputId": "330a1512-bbae-4e8d-f86e-dc1aa86c5da7",
        "colab": {
          "base_uri": "https://localhost:8080/",
          "height": 407
        }
      },
      "outputs": [
        {
          "output_type": "error",
          "ename": "ValueError",
          "evalue": "ignored",
          "traceback": [
            "\u001b[0;31m---------------------------------------------------------------------------\u001b[0m",
            "\u001b[0;31mValueError\u001b[0m                                Traceback (most recent call last)",
            "\u001b[0;32m<ipython-input-73-6c47d9955e91>\u001b[0m in \u001b[0;36m<cell line: 3>\u001b[0;34m()\u001b[0m\n\u001b[1;32m      1\u001b[0m \u001b[0;32mfrom\u001b[0m \u001b[0mkeras\u001b[0m\u001b[0;34m.\u001b[0m\u001b[0mmodels\u001b[0m \u001b[0;32mimport\u001b[0m \u001b[0mload_model\u001b[0m\u001b[0;34m\u001b[0m\u001b[0;34m\u001b[0m\u001b[0m\n\u001b[1;32m      2\u001b[0m \u001b[0mtest_model\u001b[0m \u001b[0;34m=\u001b[0m \u001b[0mload_model\u001b[0m\u001b[0;34m(\u001b[0m\u001b[0;34m'car1.h5'\u001b[0m\u001b[0;34m)\u001b[0m\u001b[0;34m\u001b[0m\u001b[0;34m\u001b[0m\u001b[0m\n\u001b[0;32m----> 3\u001b[0;31m \u001b[0mModel1_Results\u001b[0m \u001b[0;34m=\u001b[0m \u001b[0mtest_model\u001b[0m\u001b[0;34m.\u001b[0m\u001b[0mevaluate\u001b[0m\u001b[0;34m(\u001b[0m\u001b[0mfiles_train\u001b[0m\u001b[0;34m)\u001b[0m\u001b[0;34m\u001b[0m\u001b[0;34m\u001b[0m\u001b[0m\n\u001b[0m\u001b[1;32m      4\u001b[0m \u001b[0mprint\u001b[0m\u001b[0;34m(\u001b[0m\u001b[0;34mf'Loss: {Model1_Results[0]:.3f}'\u001b[0m\u001b[0;34m)\u001b[0m\u001b[0;34m\u001b[0m\u001b[0;34m\u001b[0m\u001b[0m\n\u001b[1;32m      5\u001b[0m \u001b[0mprint\u001b[0m\u001b[0;34m(\u001b[0m\u001b[0;34mf'Accuracy: {Model1_Results[1]:.3f}'\u001b[0m\u001b[0;34m)\u001b[0m\u001b[0;34m\u001b[0m\u001b[0;34m\u001b[0m\u001b[0m\n",
            "\u001b[0;32m/usr/local/lib/python3.10/dist-packages/keras/src/utils/traceback_utils.py\u001b[0m in \u001b[0;36merror_handler\u001b[0;34m(*args, **kwargs)\u001b[0m\n\u001b[1;32m     68\u001b[0m             \u001b[0;31m# To get the full stack trace, call:\u001b[0m\u001b[0;34m\u001b[0m\u001b[0;34m\u001b[0m\u001b[0m\n\u001b[1;32m     69\u001b[0m             \u001b[0;31m# `tf.debugging.disable_traceback_filtering()`\u001b[0m\u001b[0;34m\u001b[0m\u001b[0;34m\u001b[0m\u001b[0m\n\u001b[0;32m---> 70\u001b[0;31m             \u001b[0;32mraise\u001b[0m \u001b[0me\u001b[0m\u001b[0;34m.\u001b[0m\u001b[0mwith_traceback\u001b[0m\u001b[0;34m(\u001b[0m\u001b[0mfiltered_tb\u001b[0m\u001b[0;34m)\u001b[0m \u001b[0;32mfrom\u001b[0m \u001b[0;32mNone\u001b[0m\u001b[0;34m\u001b[0m\u001b[0;34m\u001b[0m\u001b[0m\n\u001b[0m\u001b[1;32m     71\u001b[0m         \u001b[0;32mfinally\u001b[0m\u001b[0;34m:\u001b[0m\u001b[0;34m\u001b[0m\u001b[0;34m\u001b[0m\u001b[0m\n\u001b[1;32m     72\u001b[0m             \u001b[0;32mdel\u001b[0m \u001b[0mfiltered_tb\u001b[0m\u001b[0;34m\u001b[0m\u001b[0;34m\u001b[0m\u001b[0m\n",
            "\u001b[0;32m/usr/local/lib/python3.10/dist-packages/keras/src/engine/data_adapter.py\u001b[0m in \u001b[0;36mselect_data_adapter\u001b[0;34m(x, y)\u001b[0m\n\u001b[1;32m   1103\u001b[0m     \u001b[0;32mif\u001b[0m \u001b[0;32mnot\u001b[0m \u001b[0madapter_cls\u001b[0m\u001b[0;34m:\u001b[0m\u001b[0;34m\u001b[0m\u001b[0;34m\u001b[0m\u001b[0m\n\u001b[1;32m   1104\u001b[0m         \u001b[0;31m# TODO(scottzhu): This should be a less implementation-specific error.\u001b[0m\u001b[0;34m\u001b[0m\u001b[0;34m\u001b[0m\u001b[0m\n\u001b[0;32m-> 1105\u001b[0;31m         raise ValueError(\n\u001b[0m\u001b[1;32m   1106\u001b[0m             \"Failed to find data adapter that can handle input: {}, {}\".format(\n\u001b[1;32m   1107\u001b[0m                 \u001b[0m_type_name\u001b[0m\u001b[0;34m(\u001b[0m\u001b[0mx\u001b[0m\u001b[0;34m)\u001b[0m\u001b[0;34m,\u001b[0m \u001b[0m_type_name\u001b[0m\u001b[0;34m(\u001b[0m\u001b[0my\u001b[0m\u001b[0;34m)\u001b[0m\u001b[0;34m\u001b[0m\u001b[0;34m\u001b[0m\u001b[0m\n",
            "\u001b[0;31mValueError\u001b[0m: Failed to find data adapter that can handle input: (<class 'dict'> containing {\"<class 'str'>\"} keys and {\"<class 'int'>\"} values), <class 'NoneType'>"
          ]
        }
      ],
      "source": [
        "from keras.models import load_model\n",
        "test_model = load_model('car1.h5')\n",
        "Model1_Results = test_model.evaluate(files_train)\n",
        "print(f'Loss: {Model1_Results[0]:.3f}')\n",
        "print(f'Accuracy: {Model1_Results[1]:.3f}')"
      ]
    }
  ],
  "metadata": {
    "kernelspec": {
      "display_name": "Python 2",
      "language": "python",
      "name": "python2"
    },
    "language_info": {
      "codemirror_mode": {
        "name": "ipython",
        "version": 2
      },
      "file_extension": ".py",
      "mimetype": "text/x-python",
      "name": "python",
      "nbconvert_exporter": "python",
      "pygments_lexer": "ipython2",
      "version": "2.7.12"
    },
    "colab": {
      "provenance": [],
      "include_colab_link": true
    }
  },
  "nbformat": 4,
  "nbformat_minor": 0
}