{
  "nbformat": 4,
  "nbformat_minor": 0,
  "metadata": {
    "colab": {
      "provenance": [],
      "authorship_tag": "ABX9TyPmDqeE37Xmm7nDdJQ26MIL",
      "include_colab_link": true
    },
    "kernelspec": {
      "name": "python3",
      "display_name": "Python 3"
    },
    "language_info": {
      "name": "python"
    }
  },
  "cells": [
    {
      "cell_type": "markdown",
      "metadata": {
        "id": "view-in-github",
        "colab_type": "text"
      },
      "source": [
        "<a href=\"https://colab.research.google.com/github/Nisha40108/ParkNaviGo/blob/main/Annotation.ipynb\" target=\"_parent\"><img src=\"https://colab.research.google.com/assets/colab-badge.svg\" alt=\"Open In Colab\"/></a>"
      ]
    },
    {
      "cell_type": "code",
      "execution_count": 60,
      "metadata": {
        "colab": {
          "base_uri": "https://localhost:8080/"
        },
        "id": "QmXcsD34dq1e",
        "outputId": "e548883c-8f6c-42f9-c8e1-d67195259f67"
      },
      "outputs": [
        {
          "output_type": "stream",
          "name": "stdout",
          "text": [
            "Drive already mounted at /content/drive; to attempt to forcibly remount, call drive.mount(\"/content/drive\", force_remount=True).\n"
          ]
        }
      ],
      "source": [
        "from google.colab import drive\n",
        "drive.mount('/content/drive')"
      ]
    },
    {
      "cell_type": "code",
      "source": [
        "import json\n",
        "import pandas as pd\n",
        "import cv2\n",
        "import numpy as np\n",
        "from sklearn.model_selection import train_test_split\n",
        "from sklearn.preprocessing import LabelEncoder\n",
        "from tensorflow.keras import layers, models\n",
        "from tensorflow.keras.preprocessing.image import ImageDataGenerator"
      ],
      "metadata": {
        "id": "YPAsSCa0xO-I"
      },
      "execution_count": 64,
      "outputs": []
    },
    {
      "cell_type": "code",
      "source": [
        "# Load JSON file with annotations\n",
        "json_file_path = '/content/drive/MyDrive/nisha/train/_groundtruth.json'\n",
        "with open(json_file_path, 'r') as file:\n",
        "    data = json.load(file)\n",
        "\n",
        "    print(data)"
      ],
      "metadata": {
        "colab": {
          "base_uri": "https://localhost:8080/"
        },
        "id": "WMWPV5-CxPBF",
        "outputId": "42016cab-0bae-43c9-9c31-f800649d95eb"
      },
      "execution_count": 69,
      "outputs": [
        {
          "output_type": "stream",
          "name": "stdout",
          "text": [
            "[{'filename': 'Screen-Shot-2023-11-29-at-3-40-28-PM_png.rf.03fe551fa68cdcd812156d0bbb9ca25a.jpg', 'label': 'non-empty', 'left': 230, 'top': 196, 'bottom': 265, 'right': 279}, {'filename': 'Screen-Shot-2023-11-29-at-3-40-28-PM_png.rf.03fe551fa68cdcd812156d0bbb9ca25a.jpg', 'label': 'non-empty', 'left': 343, 'top': 249, 'bottom': 331, 'right': 383}, {'filename': 'Screen-Shot-2023-11-29-at-3-40-28-PM_png.rf.03fe551fa68cdcd812156d0bbb9ca25a.jpg', 'label': 'non-empty', 'left': 171, 'top': 183, 'bottom': 243, 'right': 223}, {'filename': 'Screen-Shot-2023-11-29-at-3-40-28-PM_png.rf.03fe551fa68cdcd812156d0bbb9ca25a.jpg', 'label': 'non-empty', 'left': 157, 'top': 180, 'bottom': 234, 'right': 197}, {'filename': 'Screen-Shot-2023-11-29-at-3-40-28-PM_png.rf.03fe551fa68cdcd812156d0bbb9ca25a.jpg', 'label': 'non-empty', 'left': 137, 'top': 184, 'bottom': 230, 'right': 174}, {'filename': 'Screen-Shot-2023-11-29-at-3-40-28-PM_png.rf.03fe551fa68cdcd812156d0bbb9ca25a.jpg', 'label': 'non-empty', 'left': 126, 'top': 180, 'bottom': 216, 'right': 164}, {'filename': 'Screen-Shot-2023-11-29-at-3-40-28-PM_png.rf.03fe551fa68cdcd812156d0bbb9ca25a.jpg', 'label': 'non-empty', 'left': 110, 'top': 179, 'bottom': 217, 'right': 146}, {'filename': 'Screen-Shot-2023-11-29-at-3-40-28-PM_png.rf.03fe551fa68cdcd812156d0bbb9ca25a.jpg', 'label': 'non-empty', 'left': 93, 'top': 171, 'bottom': 220, 'right': 138}, {'filename': 'Screen-Shot-2023-11-29-at-3-40-28-PM_png.rf.03fe551fa68cdcd812156d0bbb9ca25a.jpg', 'label': 'empty', 'left': 192, 'top': 210, 'bottom': 271, 'right': 242}, {'filename': 'Screen-Shot-2023-11-29-at-3-40-28-PM_png.rf.03fe551fa68cdcd812156d0bbb9ca25a.jpg', 'label': 'empty', 'left': 254, 'top': 226, 'bottom': 307, 'right': 316}, {'filename': 'Screen-Shot-2023-11-29-at-3-40-28-PM_png.rf.03fe551fa68cdcd812156d0bbb9ca25a.jpg', 'label': 'empty', 'left': 293, 'top': 242, 'bottom': 332, 'right': 352}, {'filename': 'Screen-Shot-2023-11-29-at-3-40-28-PM_png.rf.03fe551fa68cdcd812156d0bbb9ca25a.jpg', 'label': 'empty', 'left': 387, 'top': 278, 'bottom': 388, 'right': 441}, {'filename': 'Screen-Shot-2023-11-29-at-3-40-28-PM_png.rf.03fe551fa68cdcd812156d0bbb9ca25a.jpg', 'label': 'empty', 'left': 436, 'top': 298, 'bottom': 414, 'right': 493}]\n"
          ]
        }
      ]
    },
    {
      "cell_type": "code",
      "source": [
        "# Convert the data to a pandas DataFrame\n",
        "annotations_df = pd.DataFrame(data)"
      ],
      "metadata": {
        "id": "WGVlmTO-xPDn"
      },
      "execution_count": 66,
      "outputs": []
    },
    {
      "cell_type": "code",
      "source": [
        "# Encode the class labels\n",
        "label_encoder = LabelEncoder()\n",
        "annotations_df['class_encoded'] = label_encoder.fit_transform(annotations_df['label'])"
      ],
      "metadata": {
        "id": "K43ehBmtxPGJ"
      },
      "execution_count": 70,
      "outputs": []
    },
    {
      "cell_type": "code",
      "source": [
        "# Split data into training and testing sets\n",
        "train_df, test_df = train_test_split(annotations_df, test_size=0.2, random_state=42)"
      ],
      "metadata": {
        "id": "prlpPkXzxPIc"
      },
      "execution_count": 71,
      "outputs": []
    },
    {
      "cell_type": "code",
      "source": [
        "# Define a function to load images and annotations\n",
        "def load_images_and_annotations(df):\n",
        "    data = []\n",
        "    for _, row in df.iterrows():\n",
        "        image_path = '/content/drive/MyDrive/nisha/train/Picture1.jpg' + row['filename']  # Adjust the path accordingly\n",
        "        image = cv2.imread(image_path)\n",
        "        if image is not None:\n",
        "          image = image / 255.0\n",
        "\n",
        "        annotation = {\n",
        "            'image': image,\n",
        "            'class_encoded': row['class_encoded'],\n",
        "            'left': row['left'],\n",
        "            'top': row['top'],\n",
        "            'bottom': row['bottom'],\n",
        "            'right': row['right']\n",
        "        }\n",
        "        data.append(annotation)\n",
        "    return data"
      ],
      "metadata": {
        "id": "yFamVBT7xPLF"
      },
      "execution_count": 83,
      "outputs": []
    },
    {
      "cell_type": "code",
      "source": [
        "# Load training and testing images and annotations\n",
        "train_data = load_images_and_annotations(train_df)\n",
        "test_data = load_images_and_annotations(test_df)"
      ],
      "metadata": {
        "id": "ib-RcmUkxPNv"
      },
      "execution_count": 84,
      "outputs": []
    },
    {
      "cell_type": "code",
      "source": [
        "# Extract image data and annotations from the loaded data\n",
        "X_train = np.array([item['image'] for item in train_data])\n",
        "y_train = np.array([item['class_encoded'] for item in train_data])\n",
        "\n",
        "X_test = np.array([item['image'] for item in test_data])\n",
        "y_test = np.array([item['class_encoded'] for item in test_data])\n"
      ],
      "metadata": {
        "id": "bIWKPhebxPQJ"
      },
      "execution_count": 85,
      "outputs": []
    },
    {
      "cell_type": "code",
      "source": [
        "img_width, img_height = 640, 640\n",
        "input_shape = (img_height, img_width, 3)  # Assuming RGB images\n",
        "\n"
      ],
      "metadata": {
        "id": "lFNYtSfcxPSe"
      },
      "execution_count": 86,
      "outputs": []
    },
    {
      "cell_type": "code",
      "source": [
        "# Define the CNN model\n",
        "model = models.Sequential()\n",
        "model.add(layers.Conv2D(32, (3, 3), activation='relu', input_shape=input_shape))\n",
        "model.add(layers.MaxPooling2D((2, 2)))\n",
        "model.add(layers.Conv2D(64, (3, 3), activation='relu'))\n",
        "model.add(layers.MaxPooling2D((2, 2)))\n",
        "model.add(layers.Conv2D(128, (3, 3), activation='relu'))\n",
        "model.add(layers.MaxPooling2D((2, 2)))\n",
        "model.add(layers.Flatten())\n",
        "model.add(layers.Dense(128, activation='relu'))\n",
        "model.add(layers.Dense(1, activation='sigmoid'))  # Output layer for binary classification\n"
      ],
      "metadata": {
        "id": "_ndPSikf05hn"
      },
      "execution_count": 87,
      "outputs": []
    },
    {
      "cell_type": "code",
      "source": [
        "model.compile(optimizer='adam', loss='binary_crossentropy', metrics=['accuracy'])"
      ],
      "metadata": {
        "id": "TYXAAf0v05uH"
      },
      "execution_count": 88,
      "outputs": []
    },
    {
      "cell_type": "code",
      "source": [
        "train_datagen = ImageDataGenerator(rescale=1./255, shear_range=0.2, zoom_range=0.2, horizontal_flip=True)\n",
        "test_datagen = ImageDataGenerator(rescale=1./255)\n"
      ],
      "metadata": {
        "id": "6seXdbV005yQ"
      },
      "execution_count": 89,
      "outputs": []
    },
    {
      "cell_type": "code",
      "source": [
        "# Assuming your 'filename' column contains the image filenames\n",
        "# Make sure the 'class_encoded' column contains the class labels\n",
        "\n",
        "# Define the data generators\n",
        "train_generator = train_datagen.flow_from_dataframe(\n",
        "    dataframe=train_df,\n",
        "    x_col='filename',\n",
        "    y_col='class_encoded',\n",
        "    target_size=(img_width, img_height),\n",
        "    batch_size=32,\n",
        "    class_mode='raw'  # Use 'raw' when the target variable is numeric\n",
        ")\n",
        "\n",
        "test_generator = test_datagen.flow_from_dataframe(\n",
        "    dataframe=test_df,\n",
        "    x_col='filename',\n",
        "    y_col='class_encoded',\n",
        "    target_size=(img_width, img_height),\n",
        "    batch_size=32,\n",
        "    class_mode='raw'  # Use 'raw' when the target variable is numeric\n",
        ")\n"
      ],
      "metadata": {
        "colab": {
          "base_uri": "https://localhost:8080/"
        },
        "id": "oMC6kECG0535",
        "outputId": "7d35e1d7-2dc6-43f6-8e2c-bcc6e22415dd"
      },
      "execution_count": 90,
      "outputs": [
        {
          "output_type": "stream",
          "name": "stdout",
          "text": [
            "Found 0 validated image filenames.\n",
            "Found 0 validated image filenames.\n"
          ]
        },
        {
          "output_type": "stream",
          "name": "stderr",
          "text": [
            "/usr/local/lib/python3.10/dist-packages/keras/src/preprocessing/image.py:1137: UserWarning: Found 10 invalid image filename(s) in x_col=\"filename\". These filename(s) will be ignored.\n",
            "  warnings.warn(\n",
            "/usr/local/lib/python3.10/dist-packages/keras/src/preprocessing/image.py:1137: UserWarning: Found 3 invalid image filename(s) in x_col=\"filename\". These filename(s) will be ignored.\n",
            "  warnings.warn(\n"
          ]
        }
      ]
    },
    {
      "cell_type": "code",
      "source": [],
      "metadata": {
        "id": "Hbi6wTwq73wQ"
      },
      "execution_count": null,
      "outputs": []
    },
    {
      "cell_type": "code",
      "source": [],
      "metadata": {
        "id": "BTYSyYxd057g"
      },
      "execution_count": null,
      "outputs": []
    }
  ]
}